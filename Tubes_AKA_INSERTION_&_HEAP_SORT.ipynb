{
  "cells": [
    {
      "cell_type": "code",
      "execution_count": null,
      "metadata": {
        "id": "SrdPSrg3LmoQ"
      },
      "outputs": [],
      "source": [
        "## disini tempat buat generate array\n",
        "import numpy as np\n",
        "\n",
        "def generateIntData(low = 0, high = 50,size = 10):\n",
        "  return np.random.randint(low = low, high = high, size = size)\n",
        "n = 100000 #ganti ini buat nyesuain n nya\n",
        "arr = generateIntData(size = n)"
      ]
    },
    {
      "cell_type": "code",
      "execution_count": null,
      "metadata": {
        "colab": {
          "base_uri": "https://localhost:8080/"
        },
        "id": "4_iiD5A0Mx0A",
        "outputId": "4a5513e2-9aa0-493e-be03-2d24d32aaf7d"
      },
      "outputs": [
        {
          "output_type": "stream",
          "name": "stdout",
          "text": [
            "running time insertion sort dengan n = 100000 adalah : 2.393438776000039s\n",
            "running time insertion sort dengan n = 100000 adalah : 2393.438776000039ms\n"
          ]
        }
      ],
      "source": [
        "## disini run algorithm entar si waktunya keluar\n",
        "\n",
        "import timeit\n",
        "\n",
        "start = timeit.default_timer()\n",
        "heapSort(arr) # kalo dah kelar insertion tinggal ganti ke heap\n",
        "end = timeit.default_timer()\n",
        "\n",
        "print(f\"running time insertion sort dengan n = {n} adalah : {end-start}s\")\n",
        "print(f\"running time insertion sort dengan n = {n} adalah : {(end-start) * 1000}ms\")"
      ]
    },
    {
      "cell_type": "code",
      "execution_count": null,
      "metadata": {
        "colab": {
          "base_uri": "https://localhost:8080/"
        },
        "id": "w9Zel8e_LKd1",
        "outputId": "ba466920-a506-4d10-d05b-fa32e44a3afe"
      },
      "outputs": [
        {
          "output_type": "stream",
          "name": "stdout",
          "text": [
            "Sorted array: \n",
            "5\n",
            "6\n",
            "7\n",
            "9\n",
            "10\n",
            "11\n",
            "15\n",
            "16\n"
          ]
        }
      ],
      "source": [
        "# Program insertion sort\n",
        " \n",
        "# fungsi insertion sort\n",
        "def insertion_sort(arr):\n",
        " \n",
        "    # traverse dari 1 sampai len(arr)\n",
        "    for i in range(1, len(arr)):\n",
        " \n",
        "        key = arr[i]\n",
        " \n",
        "        # Pindahkan elemen arr[0...i-1], yang lebih besar\n",
        "        # dari key, satu posisi ke kanan\n",
        "        # dari posisi sekarang\n",
        "        j = i-1\n",
        "        while j >=0 and key < arr[j] :\n",
        "                arr[j+1] = arr[j]\n",
        "                j -= 1\n",
        "        arr[j+1] = key\n",
        " \n",
        " \n",
        "# testing\n",
        "arr = [9, 7, 6, 15, 16, 5, 10, 11]\n",
        "insertion_sort(arr)\n",
        "print (\"Sorted array: \")\n",
        "for i in range(len(arr)):\n",
        "    print (\"%d\" %arr[i])"
      ]
    },
    {
      "cell_type": "code",
      "execution_count": null,
      "metadata": {
        "colab": {
          "base_uri": "https://localhost:8080/"
        },
        "id": "NF9KyR5JL4Qi",
        "outputId": "06d568d7-7229-4162-89f9-5066393bbba9"
      },
      "outputs": [
        {
          "output_type": "stream",
          "name": "stdout",
          "text": [
            "Sorted array is\n",
            "10\n",
            "12\n",
            "15\n",
            "23\n",
            "55\n",
            "77\n",
            "82\n",
            "90\n"
          ]
        }
      ],
      "source": [
        "# Python program for implementation of heap Sort\n",
        "  \n",
        "# To heapify subtree rooted at index i.\n",
        "# n is size of heap\n",
        "def heapify(arr, n, i):\n",
        "    largest = i  # Initialize largest as root\n",
        "    l = 2 * i + 1     # left = 2*i + 1\n",
        "    r = 2 * i + 2     # right = 2*i + 2\n",
        "  \n",
        "    # See if left child of root exists and is\n",
        "    # greater than root\n",
        "    if l < n and arr[i] < arr[l]:\n",
        "        largest = l\n",
        "  \n",
        "    # See if right child of root exists and is\n",
        "    # greater than root\n",
        "    if r < n and arr[largest] < arr[r]:\n",
        "        largest = r\n",
        "  \n",
        "    # Change root, if needed\n",
        "    if largest != i:\n",
        "        arr[i],arr[largest] = arr[largest],arr[i]  # swap\n",
        "  \n",
        "        # Heapify the root.\n",
        "        heapify(arr, n, largest)\n",
        "  \n",
        "# The main function to sort an array of given size\n",
        "def heapSort(arr):\n",
        "    n = len(arr)\n",
        "  \n",
        "    # Build a maxheap.\n",
        "    # Since last parent will be at ((n//2)-1) we can start at that location.\n",
        "    for i in range(n // 2 - 1, -1, -1):\n",
        "        heapify(arr, n, i)\n",
        "  \n",
        "    # One by one extract elements\n",
        "    for i in range(n-1, 0, -1):\n",
        "        arr[i], arr[0] = arr[0], arr[i]   # swap\n",
        "        heapify(arr, i, 0)\n",
        "  \n",
        "# Driver code to test above\n",
        "arr = [82, 90, 10, 12, 15, 77, 55, 23]\n",
        "heapSort(arr)\n",
        "n = len(arr)\n",
        "print (\"Sorted array is\")\n",
        "for i in range(n):\n",
        "    print (\"%d\" %arr[i]),\n",
        "# This code is contributed by Mohit Kumra\n",
        "\n"
      ]
    },
    {
      "cell_type": "code",
      "execution_count": null,
      "metadata": {
        "colab": {
          "base_uri": "https://localhost:8080/"
        },
        "id": "ToeXYIsJYxvt",
        "outputId": "e80ef79b-6dc5-4288-e8f5-80a36ba9349c"
      },
      "outputs": [
        {
          "name": "stdout",
          "output_type": "stream",
          "text": [
            "The time of execution of above program is : 0.6165657569999894\n"
          ]
        }
      ],
      "source": [
        "import timeit\n",
        "\n",
        "mysetup = '''\n",
        "import random\n",
        "def randomlist(n):\n",
        "    return [random.randint(0, 100000) for x in range(n)]\n",
        "\n",
        "# MASUKIN FUNGSINYA KESINI\n",
        "# Python program for implementation of heap Sort\n",
        "  \n",
        "# To heapify subtree rooted at index i.\n",
        "# n is size of heap\n",
        "def heapify(arr, n, i):\n",
        "    largest = i  # Initialize largest as root\n",
        "    l = 2 * i + 1     # left = 2*i + 1\n",
        "    r = 2 * i + 2     # right = 2*i + 2\n",
        "  \n",
        "    # See if left child of root exists and is\n",
        "    # greater than root\n",
        "    if l < n and arr[i] < arr[l]:\n",
        "        largest = l\n",
        "  \n",
        "    # See if right child of root exists and is\n",
        "    # greater than root\n",
        "    if r < n and arr[largest] < arr[r]:\n",
        "        largest = r\n",
        "  \n",
        "    # Change root, if needed\n",
        "    if largest != i:\n",
        "        arr[i],arr[largest] = arr[largest],arr[i]  # swap\n",
        "  \n",
        "        # Heapify the root.\n",
        "        heapify(arr, n, largest)\n",
        "  \n",
        "# The main function to sort an array of given size\n",
        "def heapSort(arr):\n",
        "    n = len(arr)\n",
        "  \n",
        "    # Build a maxheap.\n",
        "    # Since last parent will be at ((n//2)-1) we can start at that location.\n",
        "    for i in range(n // 2 - 1, -1, -1):\n",
        "        heapify(arr, n, i)\n",
        "  \n",
        "    # One by one extract elements\n",
        "    for i in range(n-1, 0, -1):\n",
        "        arr[i], arr[0] = arr[0], arr[i]   # swap\n",
        "        heapify(arr, i, 0)\n",
        "\n",
        "'''\n",
        "\n",
        "mycode = '''\n",
        "mylist = randomlist(100) # ganti angkanya sesuai n\n",
        "heapSort(mylist) # panggil fungsi sortnya\n",
        "'''\n",
        "\n",
        "print (\"The time of execution of above program is :\",\n",
        "       timeit.timeit(setup = mysetup,\n",
        "                    stmt = mycode,\n",
        "                    number = 1000))"
      ]
    }
  ],
  "metadata": {
    "colab": {
      "collapsed_sections": [],
      "name": "Tubes AKA INSERTION & HEAP SORT.ipynb",
      "provenance": []
    },
    "kernelspec": {
      "display_name": "Python 3",
      "name": "python3"
    },
    "language_info": {
      "name": "python"
    }
  },
  "nbformat": 4,
  "nbformat_minor": 0
}